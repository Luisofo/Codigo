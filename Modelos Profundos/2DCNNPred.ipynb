{
 "cells": [
  {
   "cell_type": "code",
   "execution_count": null,
   "metadata": {
    "collapsed": true,
    "pycharm": {
     "name": "#%%\n"
    }
   },
   "outputs": [],
   "source": [
    "import numpy as np\n",
    "import pandas as pd\n",
    "import tensorflow as tf\n",
    "from matplotlib import pyplot\n",
    "\n",
    "import keras\n",
    "from sklearn.preprocessing import StandardScaler\n",
    "from sklearn.model_selection import train_test_split\n",
    "from keras.models import Sequential\n",
    "from keras.layers import Dense, Dropout, Flatten\n",
    "from keras.layers import Conv2D, MaxPooling2D\n",
    "from keras import backend as K\n",
    "\n",
    "import gc"
   ]
  },
  {
   "cell_type": "code",
   "execution_count": null,
   "outputs": [],
   "source": [
    "def cnn_data_sequence_pre_train(data, target, seque_len,previo_aniadido=False):\n",
    "    print(data.shape)\n",
    "    print(target.shape)\n",
    "    new_data = []\n",
    "    new_target = []\n",
    "    if(previo_aniadido == False):\n",
    "        for index in range(data.shape[0] - seque_len + 1):\n",
    "            new_data.append(data[index: index + seque_len])\n",
    "            new_target.append(target[index + seque_len-1])\n",
    "            print(index,':',index + seque_len - 1,'-->',index + seque_len-1)\n",
    "    else:\n",
    "        for index in range(data.shape[0] - seque_len + 1):\n",
    "            new_data.append(data[index: index + seque_len])\n",
    "            new_target.append(target.iloc[index])\n",
    "            print(index,':',index + seque_len - 1,'-->',index)\n",
    "\n",
    "    new_data = np.array(new_data)\n",
    "    new_target = np.array(new_target)\n",
    "\n",
    "    new_data = new_data.reshape(new_data.shape[0], new_data.shape[1], new_data.shape[2], 1)\n",
    "\n",
    "    return new_data, new_target\n",
    "\n",
    "\n",
    "def mostrarEvolucion(hist):\n",
    "    loss = hist.history['loss']\n",
    "    val_loss = hist.history['val_loss']\n",
    "    pyplot.plot(loss)\n",
    "    pyplot.plot(val_loss)\n",
    "    pyplot.legend(['Training loss', 'Validation loss'])\n",
    "    pyplot.show()\n",
    "\n",
    "    acc = hist.history['accuracy']\n",
    "    val_acc = hist.history['val_accuracy']\n",
    "    pyplot.plot(acc)\n",
    "    pyplot.plot(val_acc)\n",
    "    pyplot.legend(['Training accuracy','Validation accuracy'])\n",
    "    pyplot.show()"
   ],
   "metadata": {
    "collapsed": false,
    "pycharm": {
     "name": "#%%\n"
    }
   }
  },
  {
   "cell_type": "markdown",
   "source": [
    "### Cargamos el conjunto de datos"
   ],
   "metadata": {
    "collapsed": false,
    "pycharm": {
     "name": "#%% md\n"
    }
   }
  },
  {
   "cell_type": "code",
   "execution_count": null,
   "outputs": [],
   "source": [
    "# Cargamos los datos originales\n",
    "df = pd.read_csv('../spyconalfas.csv')\n",
    "# Separamos en X - (conjunto de entrenamiento) y Y - (etiquetas de los movimientos)\n",
    "Y = df['next movement']\n",
    "X = df\n",
    "X.drop(['next movement','alpha53'],axis=1,inplace=True)\n",
    "X_train,X_test,Y_train,Y_test = train_test_split(X,Y,test_size=0.2,shuffle=False)\n",
    "\n",
    "fecha_inicio_train = X_train['Date'].iloc[0]\n",
    "fecha_fin_train = X_train['Date'].iloc[-1]\n",
    "fecha_inicio_test = X_test['Date'].iloc[0]\n",
    "fecha_fin_test = X_test['Date'].iloc[-1]\n",
    "\n",
    "print('Intervalo de entrenamiento:',fecha_inicio_train,'-',fecha_fin_train)\n",
    "print('Intervalo de prueba:',fecha_inicio_test,'-',fecha_fin_test)\n",
    "\n",
    "X_train_open = X_train['Open']\n",
    "X_test_open = X_test['Open']\n",
    "X_train_close = X_train['Close']\n",
    "X_test_close = X_test['Close']\n",
    "\n",
    "X_train_ret = X_train['next returns']\n",
    "X_test_ret = X_test['next returns']\n",
    "X_train.drop(['next returns', 'Date', 'Open'], axis=1, inplace=True)\n",
    "X_test.drop(['next returns', 'Date', 'Open'], axis=1, inplace=True)\n",
    "\n",
    "cols_to_norm = ['Close','alpha54','alpha84']\n",
    "scaler  = StandardScaler()\n",
    "\n",
    "X_train[cols_to_norm] = scaler.fit_transform(X_train[cols_to_norm])\n",
    "X_test[cols_to_norm] = scaler.transform(X_test[cols_to_norm])\n",
    "\n",
    "n_caracteristicas = X_train.shape[1]"
   ],
   "metadata": {
    "collapsed": false,
    "pycharm": {
     "name": "#%%\n"
    }
   }
  },
  {
   "cell_type": "markdown",
   "source": [
    "Construcción de los tensores 2D"
   ],
   "metadata": {
    "collapsed": false,
    "pycharm": {
     "name": "#%% md\n"
    }
   }
  },
  {
   "cell_type": "code",
   "execution_count": null,
   "outputs": [],
   "source": [
    "X_train_last_59 = X_train.iloc[-59:].copy()"
   ],
   "metadata": {
    "collapsed": false,
    "pycharm": {
     "name": "#%%\n"
    }
   }
  },
  {
   "cell_type": "code",
   "execution_count": null,
   "outputs": [],
   "source": [
    "X_train_last_59"
   ],
   "metadata": {
    "collapsed": false,
    "pycharm": {
     "name": "#%%\n"
    }
   }
  },
  {
   "cell_type": "code",
   "execution_count": null,
   "outputs": [],
   "source": [
    "X_train_last_59.shape"
   ],
   "metadata": {
    "collapsed": false,
    "pycharm": {
     "name": "#%%\n"
    }
   }
  },
  {
   "cell_type": "code",
   "execution_count": null,
   "outputs": [],
   "source": [
    "X_test = pd.concat([X_train_last_59,X_test])"
   ],
   "metadata": {
    "collapsed": false,
    "pycharm": {
     "name": "#%%\n"
    }
   }
  },
  {
   "cell_type": "code",
   "execution_count": null,
   "outputs": [],
   "source": [
    "X_test"
   ],
   "metadata": {
    "collapsed": false,
    "pycharm": {
     "name": "#%%\n"
    }
   }
  },
  {
   "cell_type": "code",
   "execution_count": null,
   "outputs": [],
   "source": [
    "print(X_test.shape)\n",
    "print(Y_test.shape)"
   ],
   "metadata": {
    "collapsed": false,
    "pycharm": {
     "name": "#%%\n"
    }
   }
  },
  {
   "cell_type": "code",
   "execution_count": null,
   "outputs": [],
   "source": [
    "X_train,Y_train = cnn_data_sequence_pre_train(X_train,Y_train,seque_len=60)"
   ],
   "metadata": {
    "collapsed": false,
    "pycharm": {
     "name": "#%%\n"
    }
   }
  },
  {
   "cell_type": "code",
   "execution_count": null,
   "outputs": [],
   "source": [
    "Y_test"
   ],
   "metadata": {
    "collapsed": false,
    "pycharm": {
     "name": "#%%\n"
    }
   }
  },
  {
   "cell_type": "code",
   "execution_count": null,
   "outputs": [],
   "source": [
    "X_test,Y_test = cnn_data_sequence_pre_train(X_test,Y_test,seque_len=60,previo_aniadido=True)"
   ],
   "metadata": {
    "collapsed": false,
    "pycharm": {
     "name": "#%%\n"
    }
   }
  },
  {
   "cell_type": "markdown",
   "source": [
    "### Construcción del modelo"
   ],
   "metadata": {
    "collapsed": false,
    "pycharm": {
     "name": "#%% md\n"
    }
   }
  },
  {
   "cell_type": "code",
   "execution_count": null,
   "outputs": [],
   "source": [
    "model = Sequential()\n",
    "model.add(Conv2D(8,(1,n_caracteristicas),activation='relu',input_shape=(60, n_caracteristicas, 1)))\n",
    "model.add(Conv2D(8, (3, 1), activation='relu'))\n",
    "model.add(MaxPooling2D(pool_size=(2, 1)))\n",
    "model.add(Conv2D(8, (3, 1), activation='relu'))\n",
    "model.add(MaxPooling2D(pool_size=(2, 1)))\n",
    "model.add(Flatten())\n",
    "model.add(Dropout(0.5))\n",
    "model.add(Dense(1, activation='sigmoid'))\n",
    "\n",
    "\n",
    "print(model.summary())"
   ],
   "metadata": {
    "collapsed": false,
    "pycharm": {
     "name": "#%%\n"
    }
   }
  },
  {
   "cell_type": "code",
   "execution_count": null,
   "outputs": [],
   "source": [
    "model.compile(loss=keras.losses.binary_crossentropy,\n",
    "              optimizer=tf.keras.optimizers.Adam(),\n",
    "              metrics=['accuracy'])"
   ],
   "metadata": {
    "collapsed": false,
    "pycharm": {
     "name": "#%%\n"
    }
   }
  },
  {
   "cell_type": "markdown",
   "source": [
    "### Entrenamiento"
   ],
   "metadata": {
    "collapsed": false,
    "pycharm": {
     "name": "#%% md\n"
    }
   }
  },
  {
   "cell_type": "code",
   "execution_count": null,
   "outputs": [],
   "source": [
    "hist = model.fit(X_train,Y_train,batch_size=128,\n",
    "            validation_data=(X_test,Y_test),\n",
    "            epochs=100,\n",
    "            verbose=1,\n",
    "            shuffle=False)"
   ],
   "metadata": {
    "collapsed": false,
    "pycharm": {
     "name": "#%%\n"
    }
   }
  },
  {
   "cell_type": "code",
   "execution_count": null,
   "outputs": [],
   "source": [
    "mostrarEvolucion(hist)"
   ],
   "metadata": {
    "collapsed": false,
    "pycharm": {
     "name": "#%%\n"
    }
   }
  }
 ],
 "metadata": {
  "kernelspec": {
   "display_name": "Python 3",
   "language": "python",
   "name": "python3"
  },
  "language_info": {
   "codemirror_mode": {
    "name": "ipython",
    "version": 2
   },
   "file_extension": ".py",
   "mimetype": "text/x-python",
   "name": "python",
   "nbconvert_exporter": "python",
   "pygments_lexer": "ipython2",
   "version": "2.7.6"
  }
 },
 "nbformat": 4,
 "nbformat_minor": 0
}