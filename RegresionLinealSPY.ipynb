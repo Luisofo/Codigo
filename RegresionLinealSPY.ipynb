{
 "cells": [
  {
   "cell_type": "code",
   "execution_count": 61,
   "metadata": {
    "collapsed": true,
    "pycharm": {
     "name": "#%%\n"
    }
   },
   "outputs": [],
   "source": [
    "import numpy as np\n",
    "import pandas as pd\n",
    "import yfinance as yf\n",
    "from sklearn.model_selection import train_test_split\n",
    "from sklearn.model_selection import TimeSeriesSplit\n",
    "from sklearn.linear_model import LinearRegression"
   ]
  },
  {
   "cell_type": "code",
   "execution_count": 62,
   "outputs": [],
   "source": [
    "SPY = yf.Ticker('SPY')"
   ],
   "metadata": {
    "collapsed": false,
    "pycharm": {
     "name": "#%%\n"
    }
   }
  },
  {
   "cell_type": "code",
   "execution_count": 63,
   "outputs": [],
   "source": [
    "data = SPY.history(period='10y')"
   ],
   "metadata": {
    "collapsed": false,
    "pycharm": {
     "name": "#%%\n"
    }
   }
  },
  {
   "cell_type": "code",
   "execution_count": 64,
   "outputs": [
    {
     "data": {
      "text/plain": "                  Open        High         Low       Close     Volume  \\\nDate                                                                    \n2012-09-24  120.253037  120.940673  120.161905  120.667274   95682000   \n2012-09-25  120.924119  121.156090  119.350010  119.383156  133165200   \n2012-09-26  119.358311  119.391445  118.430411  118.712090  146502200   \n2012-09-27  119.209165  120.103919  118.894341  119.830521  111830300   \n2012-09-28  119.374872  119.764256  118.852942  119.275459  150696100   \n...                ...         ...         ...         ...        ...   \n2022-09-19  382.260010  388.549988  382.179993  388.549988   73278500   \n2022-09-20  385.059998  386.119995  381.200012  384.089996   77274900   \n2022-09-21  386.109985  389.309998  377.380005  377.390015  106746600   \n2022-09-22  376.579987  378.299988  373.440002  374.220001   89472600   \n2022-09-23  370.579987  370.619995  363.290009  367.950012  122210100   \n\n            Dividends  Stock Splits  \nDate                                 \n2012-09-24        0.0             0  \n2012-09-25        0.0             0  \n2012-09-26        0.0             0  \n2012-09-27        0.0             0  \n2012-09-28        0.0             0  \n...               ...           ...  \n2022-09-19        0.0             0  \n2022-09-20        0.0             0  \n2022-09-21        0.0             0  \n2022-09-22        0.0             0  \n2022-09-23        0.0             0  \n\n[2517 rows x 7 columns]",
      "text/html": "<div>\n<style scoped>\n    .dataframe tbody tr th:only-of-type {\n        vertical-align: middle;\n    }\n\n    .dataframe tbody tr th {\n        vertical-align: top;\n    }\n\n    .dataframe thead th {\n        text-align: right;\n    }\n</style>\n<table border=\"1\" class=\"dataframe\">\n  <thead>\n    <tr style=\"text-align: right;\">\n      <th></th>\n      <th>Open</th>\n      <th>High</th>\n      <th>Low</th>\n      <th>Close</th>\n      <th>Volume</th>\n      <th>Dividends</th>\n      <th>Stock Splits</th>\n    </tr>\n    <tr>\n      <th>Date</th>\n      <th></th>\n      <th></th>\n      <th></th>\n      <th></th>\n      <th></th>\n      <th></th>\n      <th></th>\n    </tr>\n  </thead>\n  <tbody>\n    <tr>\n      <th>2012-09-24</th>\n      <td>120.253037</td>\n      <td>120.940673</td>\n      <td>120.161905</td>\n      <td>120.667274</td>\n      <td>95682000</td>\n      <td>0.0</td>\n      <td>0</td>\n    </tr>\n    <tr>\n      <th>2012-09-25</th>\n      <td>120.924119</td>\n      <td>121.156090</td>\n      <td>119.350010</td>\n      <td>119.383156</td>\n      <td>133165200</td>\n      <td>0.0</td>\n      <td>0</td>\n    </tr>\n    <tr>\n      <th>2012-09-26</th>\n      <td>119.358311</td>\n      <td>119.391445</td>\n      <td>118.430411</td>\n      <td>118.712090</td>\n      <td>146502200</td>\n      <td>0.0</td>\n      <td>0</td>\n    </tr>\n    <tr>\n      <th>2012-09-27</th>\n      <td>119.209165</td>\n      <td>120.103919</td>\n      <td>118.894341</td>\n      <td>119.830521</td>\n      <td>111830300</td>\n      <td>0.0</td>\n      <td>0</td>\n    </tr>\n    <tr>\n      <th>2012-09-28</th>\n      <td>119.374872</td>\n      <td>119.764256</td>\n      <td>118.852942</td>\n      <td>119.275459</td>\n      <td>150696100</td>\n      <td>0.0</td>\n      <td>0</td>\n    </tr>\n    <tr>\n      <th>...</th>\n      <td>...</td>\n      <td>...</td>\n      <td>...</td>\n      <td>...</td>\n      <td>...</td>\n      <td>...</td>\n      <td>...</td>\n    </tr>\n    <tr>\n      <th>2022-09-19</th>\n      <td>382.260010</td>\n      <td>388.549988</td>\n      <td>382.179993</td>\n      <td>388.549988</td>\n      <td>73278500</td>\n      <td>0.0</td>\n      <td>0</td>\n    </tr>\n    <tr>\n      <th>2022-09-20</th>\n      <td>385.059998</td>\n      <td>386.119995</td>\n      <td>381.200012</td>\n      <td>384.089996</td>\n      <td>77274900</td>\n      <td>0.0</td>\n      <td>0</td>\n    </tr>\n    <tr>\n      <th>2022-09-21</th>\n      <td>386.109985</td>\n      <td>389.309998</td>\n      <td>377.380005</td>\n      <td>377.390015</td>\n      <td>106746600</td>\n      <td>0.0</td>\n      <td>0</td>\n    </tr>\n    <tr>\n      <th>2022-09-22</th>\n      <td>376.579987</td>\n      <td>378.299988</td>\n      <td>373.440002</td>\n      <td>374.220001</td>\n      <td>89472600</td>\n      <td>0.0</td>\n      <td>0</td>\n    </tr>\n    <tr>\n      <th>2022-09-23</th>\n      <td>370.579987</td>\n      <td>370.619995</td>\n      <td>363.290009</td>\n      <td>367.950012</td>\n      <td>122210100</td>\n      <td>0.0</td>\n      <td>0</td>\n    </tr>\n  </tbody>\n</table>\n<p>2517 rows × 7 columns</p>\n</div>"
     },
     "execution_count": 64,
     "metadata": {},
     "output_type": "execute_result"
    }
   ],
   "source": [
    "data"
   ],
   "metadata": {
    "collapsed": false,
    "pycharm": {
     "name": "#%%\n"
    }
   }
  },
  {
   "cell_type": "code",
   "execution_count": 65,
   "outputs": [],
   "source": [
    "data['retorno diario']= (data['Close']/data['Close'].shift(1)) - 1\n",
    "data['-1 day'] = data['retorno diario'].shift(1)\n",
    "data['-2 day'] = data['retorno diario'].shift(2)\n",
    "data['-5 day'] = data['retorno diario'].shift(5)\n",
    "data['-20 day'] = data['retorno diario'].shift(20)\n",
    "data = data[['retorno diario','-1 day','-2 day','-5 day','-20 day']]\n",
    "data = data.dropna(axis=0)"
   ],
   "metadata": {
    "collapsed": false,
    "pycharm": {
     "name": "#%%\n"
    }
   }
  },
  {
   "cell_type": "code",
   "execution_count": 66,
   "outputs": [
    {
     "data": {
      "text/plain": "            retorno diario    -1 day    -2 day    -5 day   -20 day\nDate                                                              \n2012-10-23       -0.013876  0.000140 -0.016665  0.010133 -0.010642\n2012-10-24       -0.002829 -0.013876  0.000140  0.004535 -0.005621\n2012-10-25        0.002907 -0.002829 -0.013876 -0.002598  0.009421\n2012-10-26       -0.000566  0.002907 -0.002829 -0.016665 -0.004632\n2012-10-31        0.000000 -0.000566  0.002907  0.000140  0.002639\n...                    ...       ...       ...       ...       ...\n2022-09-19        0.007755 -0.007629 -0.011353  0.010748 -0.013438\n2022-09-20       -0.011479  0.007755 -0.007629 -0.043483 -0.020823\n2022-09-21       -0.017444 -0.011479  0.007755  0.003816 -0.002419\n2022-09-22       -0.008400 -0.017444 -0.011479 -0.011353  0.003201\n2022-09-23       -0.016755 -0.008400 -0.017444 -0.007629  0.014118\n\n[2496 rows x 5 columns]",
      "text/html": "<div>\n<style scoped>\n    .dataframe tbody tr th:only-of-type {\n        vertical-align: middle;\n    }\n\n    .dataframe tbody tr th {\n        vertical-align: top;\n    }\n\n    .dataframe thead th {\n        text-align: right;\n    }\n</style>\n<table border=\"1\" class=\"dataframe\">\n  <thead>\n    <tr style=\"text-align: right;\">\n      <th></th>\n      <th>retorno diario</th>\n      <th>-1 day</th>\n      <th>-2 day</th>\n      <th>-5 day</th>\n      <th>-20 day</th>\n    </tr>\n    <tr>\n      <th>Date</th>\n      <th></th>\n      <th></th>\n      <th></th>\n      <th></th>\n      <th></th>\n    </tr>\n  </thead>\n  <tbody>\n    <tr>\n      <th>2012-10-23</th>\n      <td>-0.013876</td>\n      <td>0.000140</td>\n      <td>-0.016665</td>\n      <td>0.010133</td>\n      <td>-0.010642</td>\n    </tr>\n    <tr>\n      <th>2012-10-24</th>\n      <td>-0.002829</td>\n      <td>-0.013876</td>\n      <td>0.000140</td>\n      <td>0.004535</td>\n      <td>-0.005621</td>\n    </tr>\n    <tr>\n      <th>2012-10-25</th>\n      <td>0.002907</td>\n      <td>-0.002829</td>\n      <td>-0.013876</td>\n      <td>-0.002598</td>\n      <td>0.009421</td>\n    </tr>\n    <tr>\n      <th>2012-10-26</th>\n      <td>-0.000566</td>\n      <td>0.002907</td>\n      <td>-0.002829</td>\n      <td>-0.016665</td>\n      <td>-0.004632</td>\n    </tr>\n    <tr>\n      <th>2012-10-31</th>\n      <td>0.000000</td>\n      <td>-0.000566</td>\n      <td>0.002907</td>\n      <td>0.000140</td>\n      <td>0.002639</td>\n    </tr>\n    <tr>\n      <th>...</th>\n      <td>...</td>\n      <td>...</td>\n      <td>...</td>\n      <td>...</td>\n      <td>...</td>\n    </tr>\n    <tr>\n      <th>2022-09-19</th>\n      <td>0.007755</td>\n      <td>-0.007629</td>\n      <td>-0.011353</td>\n      <td>0.010748</td>\n      <td>-0.013438</td>\n    </tr>\n    <tr>\n      <th>2022-09-20</th>\n      <td>-0.011479</td>\n      <td>0.007755</td>\n      <td>-0.007629</td>\n      <td>-0.043483</td>\n      <td>-0.020823</td>\n    </tr>\n    <tr>\n      <th>2022-09-21</th>\n      <td>-0.017444</td>\n      <td>-0.011479</td>\n      <td>0.007755</td>\n      <td>0.003816</td>\n      <td>-0.002419</td>\n    </tr>\n    <tr>\n      <th>2022-09-22</th>\n      <td>-0.008400</td>\n      <td>-0.017444</td>\n      <td>-0.011479</td>\n      <td>-0.011353</td>\n      <td>0.003201</td>\n    </tr>\n    <tr>\n      <th>2022-09-23</th>\n      <td>-0.016755</td>\n      <td>-0.008400</td>\n      <td>-0.017444</td>\n      <td>-0.007629</td>\n      <td>0.014118</td>\n    </tr>\n  </tbody>\n</table>\n<p>2496 rows × 5 columns</p>\n</div>"
     },
     "execution_count": 66,
     "metadata": {},
     "output_type": "execute_result"
    }
   ],
   "source": [
    "data"
   ],
   "metadata": {
    "collapsed": false,
    "pycharm": {
     "name": "#%%\n"
    }
   }
  },
  {
   "cell_type": "code",
   "execution_count": 67,
   "outputs": [],
   "source": [
    "Y = data['retorno diario']\n",
    "X = data[['-1 day','-2 day','-5 day','-20 day']]"
   ],
   "metadata": {
    "collapsed": false,
    "pycharm": {
     "name": "#%%\n"
    }
   }
  },
  {
   "cell_type": "code",
   "execution_count": 68,
   "outputs": [],
   "source": [
    "tss = TimeSeriesSplit(n_splits=2)"
   ],
   "metadata": {
    "collapsed": false,
    "pycharm": {
     "name": "#%%\n"
    }
   }
  },
  {
   "cell_type": "code",
   "execution_count": 69,
   "outputs": [],
   "source": [
    "for train_index, test_index in tss.split(X):\n",
    "    X_train, X_test = X.iloc[train_index, :], X.iloc[test_index,:]\n",
    "    y_train, y_test = Y.iloc[train_index], Y.iloc[test_index]"
   ],
   "metadata": {
    "collapsed": false,
    "pycharm": {
     "name": "#%%\n"
    }
   }
  },
  {
   "cell_type": "code",
   "execution_count": 70,
   "outputs": [
    {
     "data": {
      "text/plain": "              -1 day    -2 day    -5 day   -20 day\nDate                                              \n2012-10-23  0.000140 -0.016665  0.010133 -0.010642\n2012-10-24 -0.013876  0.000140  0.004535 -0.005621\n2012-10-25 -0.002829 -0.013876 -0.002598  0.009421\n2012-10-26  0.002907 -0.002829 -0.016665 -0.004632\n2012-10-31 -0.000566  0.002907  0.000140  0.002639\n...              ...       ...       ...       ...\n2019-05-31  0.002731 -0.006711 -0.012219 -0.002159\n2019-06-03 -0.013475  0.002731  0.002269  0.009788\n2019-06-04 -0.002543 -0.013475 -0.009301 -0.004115\n2019-06-05  0.021707 -0.002543 -0.006711 -0.016700\n2019-06-06  0.008662  0.021707  0.002731 -0.001389\n\n[1664 rows x 4 columns]",
      "text/html": "<div>\n<style scoped>\n    .dataframe tbody tr th:only-of-type {\n        vertical-align: middle;\n    }\n\n    .dataframe tbody tr th {\n        vertical-align: top;\n    }\n\n    .dataframe thead th {\n        text-align: right;\n    }\n</style>\n<table border=\"1\" class=\"dataframe\">\n  <thead>\n    <tr style=\"text-align: right;\">\n      <th></th>\n      <th>-1 day</th>\n      <th>-2 day</th>\n      <th>-5 day</th>\n      <th>-20 day</th>\n    </tr>\n    <tr>\n      <th>Date</th>\n      <th></th>\n      <th></th>\n      <th></th>\n      <th></th>\n    </tr>\n  </thead>\n  <tbody>\n    <tr>\n      <th>2012-10-23</th>\n      <td>0.000140</td>\n      <td>-0.016665</td>\n      <td>0.010133</td>\n      <td>-0.010642</td>\n    </tr>\n    <tr>\n      <th>2012-10-24</th>\n      <td>-0.013876</td>\n      <td>0.000140</td>\n      <td>0.004535</td>\n      <td>-0.005621</td>\n    </tr>\n    <tr>\n      <th>2012-10-25</th>\n      <td>-0.002829</td>\n      <td>-0.013876</td>\n      <td>-0.002598</td>\n      <td>0.009421</td>\n    </tr>\n    <tr>\n      <th>2012-10-26</th>\n      <td>0.002907</td>\n      <td>-0.002829</td>\n      <td>-0.016665</td>\n      <td>-0.004632</td>\n    </tr>\n    <tr>\n      <th>2012-10-31</th>\n      <td>-0.000566</td>\n      <td>0.002907</td>\n      <td>0.000140</td>\n      <td>0.002639</td>\n    </tr>\n    <tr>\n      <th>...</th>\n      <td>...</td>\n      <td>...</td>\n      <td>...</td>\n      <td>...</td>\n    </tr>\n    <tr>\n      <th>2019-05-31</th>\n      <td>0.002731</td>\n      <td>-0.006711</td>\n      <td>-0.012219</td>\n      <td>-0.002159</td>\n    </tr>\n    <tr>\n      <th>2019-06-03</th>\n      <td>-0.013475</td>\n      <td>0.002731</td>\n      <td>0.002269</td>\n      <td>0.009788</td>\n    </tr>\n    <tr>\n      <th>2019-06-04</th>\n      <td>-0.002543</td>\n      <td>-0.013475</td>\n      <td>-0.009301</td>\n      <td>-0.004115</td>\n    </tr>\n    <tr>\n      <th>2019-06-05</th>\n      <td>0.021707</td>\n      <td>-0.002543</td>\n      <td>-0.006711</td>\n      <td>-0.016700</td>\n    </tr>\n    <tr>\n      <th>2019-06-06</th>\n      <td>0.008662</td>\n      <td>0.021707</td>\n      <td>0.002731</td>\n      <td>-0.001389</td>\n    </tr>\n  </tbody>\n</table>\n<p>1664 rows × 4 columns</p>\n</div>"
     },
     "execution_count": 70,
     "metadata": {},
     "output_type": "execute_result"
    }
   ],
   "source": [
    "X_train"
   ],
   "metadata": {
    "collapsed": false,
    "pycharm": {
     "name": "#%%\n"
    }
   }
  },
  {
   "cell_type": "code",
   "execution_count": 71,
   "outputs": [
    {
     "data": {
      "text/plain": "              -1 day    -2 day    -5 day   -20 day\nDate                                              \n2019-06-07  0.006503  0.008662 -0.013475 -0.003026\n2019-06-10  0.010007  0.006503 -0.002543  0.005023\n2019-06-11  0.004589  0.010007  0.021707 -0.025130\n2019-06-12 -0.000242  0.004589  0.008662  0.009043\n2019-06-13 -0.001765 -0.000242  0.006503  0.005858\n...              ...       ...       ...       ...\n2022-09-19 -0.007629 -0.011353  0.010748 -0.013438\n2022-09-20  0.007755 -0.007629 -0.043483 -0.020823\n2022-09-21 -0.011479  0.007755  0.003816 -0.002419\n2022-09-22 -0.017444 -0.011479 -0.011353  0.003201\n2022-09-23 -0.008400 -0.017444 -0.007629  0.014118\n\n[832 rows x 4 columns]",
      "text/html": "<div>\n<style scoped>\n    .dataframe tbody tr th:only-of-type {\n        vertical-align: middle;\n    }\n\n    .dataframe tbody tr th {\n        vertical-align: top;\n    }\n\n    .dataframe thead th {\n        text-align: right;\n    }\n</style>\n<table border=\"1\" class=\"dataframe\">\n  <thead>\n    <tr style=\"text-align: right;\">\n      <th></th>\n      <th>-1 day</th>\n      <th>-2 day</th>\n      <th>-5 day</th>\n      <th>-20 day</th>\n    </tr>\n    <tr>\n      <th>Date</th>\n      <th></th>\n      <th></th>\n      <th></th>\n      <th></th>\n    </tr>\n  </thead>\n  <tbody>\n    <tr>\n      <th>2019-06-07</th>\n      <td>0.006503</td>\n      <td>0.008662</td>\n      <td>-0.013475</td>\n      <td>-0.003026</td>\n    </tr>\n    <tr>\n      <th>2019-06-10</th>\n      <td>0.010007</td>\n      <td>0.006503</td>\n      <td>-0.002543</td>\n      <td>0.005023</td>\n    </tr>\n    <tr>\n      <th>2019-06-11</th>\n      <td>0.004589</td>\n      <td>0.010007</td>\n      <td>0.021707</td>\n      <td>-0.025130</td>\n    </tr>\n    <tr>\n      <th>2019-06-12</th>\n      <td>-0.000242</td>\n      <td>0.004589</td>\n      <td>0.008662</td>\n      <td>0.009043</td>\n    </tr>\n    <tr>\n      <th>2019-06-13</th>\n      <td>-0.001765</td>\n      <td>-0.000242</td>\n      <td>0.006503</td>\n      <td>0.005858</td>\n    </tr>\n    <tr>\n      <th>...</th>\n      <td>...</td>\n      <td>...</td>\n      <td>...</td>\n      <td>...</td>\n    </tr>\n    <tr>\n      <th>2022-09-19</th>\n      <td>-0.007629</td>\n      <td>-0.011353</td>\n      <td>0.010748</td>\n      <td>-0.013438</td>\n    </tr>\n    <tr>\n      <th>2022-09-20</th>\n      <td>0.007755</td>\n      <td>-0.007629</td>\n      <td>-0.043483</td>\n      <td>-0.020823</td>\n    </tr>\n    <tr>\n      <th>2022-09-21</th>\n      <td>-0.011479</td>\n      <td>0.007755</td>\n      <td>0.003816</td>\n      <td>-0.002419</td>\n    </tr>\n    <tr>\n      <th>2022-09-22</th>\n      <td>-0.017444</td>\n      <td>-0.011479</td>\n      <td>-0.011353</td>\n      <td>0.003201</td>\n    </tr>\n    <tr>\n      <th>2022-09-23</th>\n      <td>-0.008400</td>\n      <td>-0.017444</td>\n      <td>-0.007629</td>\n      <td>0.014118</td>\n    </tr>\n  </tbody>\n</table>\n<p>832 rows × 4 columns</p>\n</div>"
     },
     "execution_count": 71,
     "metadata": {},
     "output_type": "execute_result"
    }
   ],
   "source": [
    "X_test"
   ],
   "metadata": {
    "collapsed": false,
    "pycharm": {
     "name": "#%%\n"
    }
   }
  },
  {
   "cell_type": "code",
   "execution_count": 72,
   "outputs": [
    {
     "data": {
      "text/plain": "LinearRegression()"
     },
     "execution_count": 72,
     "metadata": {},
     "output_type": "execute_result"
    }
   ],
   "source": [
    "model = LinearRegression()\n",
    "model.fit(X_train,y_train)"
   ],
   "metadata": {
    "collapsed": false,
    "pycharm": {
     "name": "#%%\n"
    }
   }
  },
  {
   "cell_type": "code",
   "execution_count": 73,
   "outputs": [
    {
     "data": {
      "text/plain": "0.002977203971266884"
     },
     "execution_count": 73,
     "metadata": {},
     "output_type": "execute_result"
    }
   ],
   "source": [
    "model.score(X_train,y_train)"
   ],
   "metadata": {
    "collapsed": false,
    "pycharm": {
     "name": "#%%\n"
    }
   }
  },
  {
   "cell_type": "code",
   "execution_count": 74,
   "outputs": [],
   "source": [
    "y_train_pred = model.predict(X_train)"
   ],
   "metadata": {
    "collapsed": false,
    "pycharm": {
     "name": "#%%\n"
    }
   }
  },
  {
   "cell_type": "code",
   "execution_count": 75,
   "outputs": [
    {
     "data": {
      "text/plain": "Date\n2012-10-23   -0.013876\n2012-10-24   -0.002829\n2012-10-25    0.002907\n2012-10-26   -0.000566\n2012-10-31    0.000000\n                ...   \n2019-05-31   -0.013475\n2019-06-03   -0.002543\n2019-06-04    0.021707\n2019-06-05    0.008662\n2019-06-06    0.006503\nName: retorno diario, Length: 1664, dtype: float64"
     },
     "execution_count": 75,
     "metadata": {},
     "output_type": "execute_result"
    }
   ],
   "source": [
    "y_train"
   ],
   "metadata": {
    "collapsed": false,
    "pycharm": {
     "name": "#%%\n"
    }
   }
  },
  {
   "cell_type": "code",
   "execution_count": 76,
   "outputs": [],
   "source": [
    "y_train = y_train.to_frame()"
   ],
   "metadata": {
    "collapsed": false,
    "pycharm": {
     "name": "#%%\n"
    }
   }
  },
  {
   "cell_type": "code",
   "execution_count": 77,
   "outputs": [
    {
     "data": {
      "text/plain": "            retorno diario\nDate                      \n2012-10-23       -0.013876\n2012-10-24       -0.002829\n2012-10-25        0.002907\n2012-10-26       -0.000566\n2012-10-31        0.000000\n...                    ...\n2019-05-31       -0.013475\n2019-06-03       -0.002543\n2019-06-04        0.021707\n2019-06-05        0.008662\n2019-06-06        0.006503\n\n[1664 rows x 1 columns]",
      "text/html": "<div>\n<style scoped>\n    .dataframe tbody tr th:only-of-type {\n        vertical-align: middle;\n    }\n\n    .dataframe tbody tr th {\n        vertical-align: top;\n    }\n\n    .dataframe thead th {\n        text-align: right;\n    }\n</style>\n<table border=\"1\" class=\"dataframe\">\n  <thead>\n    <tr style=\"text-align: right;\">\n      <th></th>\n      <th>retorno diario</th>\n    </tr>\n    <tr>\n      <th>Date</th>\n      <th></th>\n    </tr>\n  </thead>\n  <tbody>\n    <tr>\n      <th>2012-10-23</th>\n      <td>-0.013876</td>\n    </tr>\n    <tr>\n      <th>2012-10-24</th>\n      <td>-0.002829</td>\n    </tr>\n    <tr>\n      <th>2012-10-25</th>\n      <td>0.002907</td>\n    </tr>\n    <tr>\n      <th>2012-10-26</th>\n      <td>-0.000566</td>\n    </tr>\n    <tr>\n      <th>2012-10-31</th>\n      <td>0.000000</td>\n    </tr>\n    <tr>\n      <th>...</th>\n      <td>...</td>\n    </tr>\n    <tr>\n      <th>2019-05-31</th>\n      <td>-0.013475</td>\n    </tr>\n    <tr>\n      <th>2019-06-03</th>\n      <td>-0.002543</td>\n    </tr>\n    <tr>\n      <th>2019-06-04</th>\n      <td>0.021707</td>\n    </tr>\n    <tr>\n      <th>2019-06-05</th>\n      <td>0.008662</td>\n    </tr>\n    <tr>\n      <th>2019-06-06</th>\n      <td>0.006503</td>\n    </tr>\n  </tbody>\n</table>\n<p>1664 rows × 1 columns</p>\n</div>"
     },
     "execution_count": 77,
     "metadata": {},
     "output_type": "execute_result"
    }
   ],
   "source": [
    "y_train"
   ],
   "metadata": {
    "collapsed": false,
    "pycharm": {
     "name": "#%%\n"
    }
   }
  },
  {
   "cell_type": "code",
   "execution_count": 78,
   "outputs": [],
   "source": [
    "y_train_pred = pd.DataFrame(y_train_pred,columns=['Prediccion'])"
   ],
   "metadata": {
    "collapsed": false,
    "pycharm": {
     "name": "#%%\n"
    }
   }
  },
  {
   "cell_type": "code",
   "execution_count": 79,
   "outputs": [
    {
     "data": {
      "text/plain": "      Prediccion\n0       0.000867\n1       0.000713\n2       0.001257\n3       0.001161\n4       0.000469\n...          ...\n1659    0.001169\n1660    0.000690\n1661    0.001446\n1662    0.000407\n1663   -0.000540\n\n[1664 rows x 1 columns]",
      "text/html": "<div>\n<style scoped>\n    .dataframe tbody tr th:only-of-type {\n        vertical-align: middle;\n    }\n\n    .dataframe tbody tr th {\n        vertical-align: top;\n    }\n\n    .dataframe thead th {\n        text-align: right;\n    }\n</style>\n<table border=\"1\" class=\"dataframe\">\n  <thead>\n    <tr style=\"text-align: right;\">\n      <th></th>\n      <th>Prediccion</th>\n    </tr>\n  </thead>\n  <tbody>\n    <tr>\n      <th>0</th>\n      <td>0.000867</td>\n    </tr>\n    <tr>\n      <th>1</th>\n      <td>0.000713</td>\n    </tr>\n    <tr>\n      <th>2</th>\n      <td>0.001257</td>\n    </tr>\n    <tr>\n      <th>3</th>\n      <td>0.001161</td>\n    </tr>\n    <tr>\n      <th>4</th>\n      <td>0.000469</td>\n    </tr>\n    <tr>\n      <th>...</th>\n      <td>...</td>\n    </tr>\n    <tr>\n      <th>1659</th>\n      <td>0.001169</td>\n    </tr>\n    <tr>\n      <th>1660</th>\n      <td>0.000690</td>\n    </tr>\n    <tr>\n      <th>1661</th>\n      <td>0.001446</td>\n    </tr>\n    <tr>\n      <th>1662</th>\n      <td>0.000407</td>\n    </tr>\n    <tr>\n      <th>1663</th>\n      <td>-0.000540</td>\n    </tr>\n  </tbody>\n</table>\n<p>1664 rows × 1 columns</p>\n</div>"
     },
     "execution_count": 79,
     "metadata": {},
     "output_type": "execute_result"
    }
   ],
   "source": [
    "y_train_pred"
   ],
   "metadata": {
    "collapsed": false,
    "pycharm": {
     "name": "#%%\n"
    }
   }
  },
  {
   "cell_type": "code",
   "execution_count": 80,
   "outputs": [],
   "source": [
    " y_train_pred['Date'] = y_train.index"
   ],
   "metadata": {
    "collapsed": false,
    "pycharm": {
     "name": "#%%\n"
    }
   }
  },
  {
   "cell_type": "code",
   "execution_count": 81,
   "outputs": [
    {
     "data": {
      "text/plain": "            retorno diario\nDate                      \n2012-10-23       -0.013876\n2012-10-24       -0.002829\n2012-10-25        0.002907\n2012-10-26       -0.000566\n2012-10-31        0.000000\n...                    ...\n2019-05-31       -0.013475\n2019-06-03       -0.002543\n2019-06-04        0.021707\n2019-06-05        0.008662\n2019-06-06        0.006503\n\n[1664 rows x 1 columns]",
      "text/html": "<div>\n<style scoped>\n    .dataframe tbody tr th:only-of-type {\n        vertical-align: middle;\n    }\n\n    .dataframe tbody tr th {\n        vertical-align: top;\n    }\n\n    .dataframe thead th {\n        text-align: right;\n    }\n</style>\n<table border=\"1\" class=\"dataframe\">\n  <thead>\n    <tr style=\"text-align: right;\">\n      <th></th>\n      <th>retorno diario</th>\n    </tr>\n    <tr>\n      <th>Date</th>\n      <th></th>\n    </tr>\n  </thead>\n  <tbody>\n    <tr>\n      <th>2012-10-23</th>\n      <td>-0.013876</td>\n    </tr>\n    <tr>\n      <th>2012-10-24</th>\n      <td>-0.002829</td>\n    </tr>\n    <tr>\n      <th>2012-10-25</th>\n      <td>0.002907</td>\n    </tr>\n    <tr>\n      <th>2012-10-26</th>\n      <td>-0.000566</td>\n    </tr>\n    <tr>\n      <th>2012-10-31</th>\n      <td>0.000000</td>\n    </tr>\n    <tr>\n      <th>...</th>\n      <td>...</td>\n    </tr>\n    <tr>\n      <th>2019-05-31</th>\n      <td>-0.013475</td>\n    </tr>\n    <tr>\n      <th>2019-06-03</th>\n      <td>-0.002543</td>\n    </tr>\n    <tr>\n      <th>2019-06-04</th>\n      <td>0.021707</td>\n    </tr>\n    <tr>\n      <th>2019-06-05</th>\n      <td>0.008662</td>\n    </tr>\n    <tr>\n      <th>2019-06-06</th>\n      <td>0.006503</td>\n    </tr>\n  </tbody>\n</table>\n<p>1664 rows × 1 columns</p>\n</div>"
     },
     "execution_count": 81,
     "metadata": {},
     "output_type": "execute_result"
    }
   ],
   "source": [
    "y_train"
   ],
   "metadata": {
    "collapsed": false,
    "pycharm": {
     "name": "#%%\n"
    }
   }
  },
  {
   "cell_type": "code",
   "execution_count": 82,
   "outputs": [
    {
     "data": {
      "text/plain": "      Prediccion       Date\n0       0.000867 2012-10-23\n1       0.000713 2012-10-24\n2       0.001257 2012-10-25\n3       0.001161 2012-10-26\n4       0.000469 2012-10-31\n...          ...        ...\n1659    0.001169 2019-05-31\n1660    0.000690 2019-06-03\n1661    0.001446 2019-06-04\n1662    0.000407 2019-06-05\n1663   -0.000540 2019-06-06\n\n[1664 rows x 2 columns]",
      "text/html": "<div>\n<style scoped>\n    .dataframe tbody tr th:only-of-type {\n        vertical-align: middle;\n    }\n\n    .dataframe tbody tr th {\n        vertical-align: top;\n    }\n\n    .dataframe thead th {\n        text-align: right;\n    }\n</style>\n<table border=\"1\" class=\"dataframe\">\n  <thead>\n    <tr style=\"text-align: right;\">\n      <th></th>\n      <th>Prediccion</th>\n      <th>Date</th>\n    </tr>\n  </thead>\n  <tbody>\n    <tr>\n      <th>0</th>\n      <td>0.000867</td>\n      <td>2012-10-23</td>\n    </tr>\n    <tr>\n      <th>1</th>\n      <td>0.000713</td>\n      <td>2012-10-24</td>\n    </tr>\n    <tr>\n      <th>2</th>\n      <td>0.001257</td>\n      <td>2012-10-25</td>\n    </tr>\n    <tr>\n      <th>3</th>\n      <td>0.001161</td>\n      <td>2012-10-26</td>\n    </tr>\n    <tr>\n      <th>4</th>\n      <td>0.000469</td>\n      <td>2012-10-31</td>\n    </tr>\n    <tr>\n      <th>...</th>\n      <td>...</td>\n      <td>...</td>\n    </tr>\n    <tr>\n      <th>1659</th>\n      <td>0.001169</td>\n      <td>2019-05-31</td>\n    </tr>\n    <tr>\n      <th>1660</th>\n      <td>0.000690</td>\n      <td>2019-06-03</td>\n    </tr>\n    <tr>\n      <th>1661</th>\n      <td>0.001446</td>\n      <td>2019-06-04</td>\n    </tr>\n    <tr>\n      <th>1662</th>\n      <td>0.000407</td>\n      <td>2019-06-05</td>\n    </tr>\n    <tr>\n      <th>1663</th>\n      <td>-0.000540</td>\n      <td>2019-06-06</td>\n    </tr>\n  </tbody>\n</table>\n<p>1664 rows × 2 columns</p>\n</div>"
     },
     "execution_count": 82,
     "metadata": {},
     "output_type": "execute_result"
    }
   ],
   "source": [
    "y_train_pred"
   ],
   "metadata": {
    "collapsed": false,
    "pycharm": {
     "name": "#%%\n"
    }
   }
  },
  {
   "cell_type": "code",
   "execution_count": 83,
   "outputs": [],
   "source": [
    "y_train_pred = y_train_pred.set_index('Date')"
   ],
   "metadata": {
    "collapsed": false,
    "pycharm": {
     "name": "#%%\n"
    }
   }
  },
  {
   "cell_type": "code",
   "execution_count": 84,
   "outputs": [],
   "source": [
    "retornos = pd.concat([y_train,y_train_pred],axis=1)"
   ],
   "metadata": {
    "collapsed": false,
    "pycharm": {
     "name": "#%%\n"
    }
   }
  },
  {
   "cell_type": "code",
   "execution_count": 85,
   "outputs": [
    {
     "data": {
      "text/plain": "            retorno diario  Prediccion\nDate                                  \n2012-10-23       -0.013876    0.000867\n2012-10-24       -0.002829    0.000713\n2012-10-25        0.002907    0.001257\n2012-10-26       -0.000566    0.001161\n2012-10-31        0.000000    0.000469\n...                    ...         ...\n2019-05-31       -0.013475    0.001169\n2019-06-03       -0.002543    0.000690\n2019-06-04        0.021707    0.001446\n2019-06-05        0.008662    0.000407\n2019-06-06        0.006503   -0.000540\n\n[1664 rows x 2 columns]",
      "text/html": "<div>\n<style scoped>\n    .dataframe tbody tr th:only-of-type {\n        vertical-align: middle;\n    }\n\n    .dataframe tbody tr th {\n        vertical-align: top;\n    }\n\n    .dataframe thead th {\n        text-align: right;\n    }\n</style>\n<table border=\"1\" class=\"dataframe\">\n  <thead>\n    <tr style=\"text-align: right;\">\n      <th></th>\n      <th>retorno diario</th>\n      <th>Prediccion</th>\n    </tr>\n    <tr>\n      <th>Date</th>\n      <th></th>\n      <th></th>\n    </tr>\n  </thead>\n  <tbody>\n    <tr>\n      <th>2012-10-23</th>\n      <td>-0.013876</td>\n      <td>0.000867</td>\n    </tr>\n    <tr>\n      <th>2012-10-24</th>\n      <td>-0.002829</td>\n      <td>0.000713</td>\n    </tr>\n    <tr>\n      <th>2012-10-25</th>\n      <td>0.002907</td>\n      <td>0.001257</td>\n    </tr>\n    <tr>\n      <th>2012-10-26</th>\n      <td>-0.000566</td>\n      <td>0.001161</td>\n    </tr>\n    <tr>\n      <th>2012-10-31</th>\n      <td>0.000000</td>\n      <td>0.000469</td>\n    </tr>\n    <tr>\n      <th>...</th>\n      <td>...</td>\n      <td>...</td>\n    </tr>\n    <tr>\n      <th>2019-05-31</th>\n      <td>-0.013475</td>\n      <td>0.001169</td>\n    </tr>\n    <tr>\n      <th>2019-06-03</th>\n      <td>-0.002543</td>\n      <td>0.000690</td>\n    </tr>\n    <tr>\n      <th>2019-06-04</th>\n      <td>0.021707</td>\n      <td>0.001446</td>\n    </tr>\n    <tr>\n      <th>2019-06-05</th>\n      <td>0.008662</td>\n      <td>0.000407</td>\n    </tr>\n    <tr>\n      <th>2019-06-06</th>\n      <td>0.006503</td>\n      <td>-0.000540</td>\n    </tr>\n  </tbody>\n</table>\n<p>1664 rows × 2 columns</p>\n</div>"
     },
     "execution_count": 85,
     "metadata": {},
     "output_type": "execute_result"
    }
   ],
   "source": [
    "retornos"
   ],
   "metadata": {
    "collapsed": false,
    "pycharm": {
     "name": "#%%\n"
    }
   }
  },
  {
   "cell_type": "code",
   "execution_count": 86,
   "outputs": [],
   "source": [
    "def winloss(s):\n",
    "    if ((s['retorno diario'] > 0) and (s['Prediccion'] > 0)) or ((s['retorno diario'] < 0) and (s['Prediccion'] < 0)):\n",
    "        return 'win'\n",
    "    else:\n",
    "        return 'loss'\n",
    "\n",
    "def longshort(s):\n",
    "    if (s['Prediccion'] > 0):\n",
    "        return 'Long'\n",
    "    else:\n",
    "        return 'Short'"
   ],
   "metadata": {
    "collapsed": false,
    "pycharm": {
     "name": "#%%\n"
    }
   }
  },
  {
   "cell_type": "code",
   "execution_count": 87,
   "outputs": [],
   "source": [
    "retornos['W/L'] = retornos.apply(winloss, axis=1)\n",
    "retornos['S/L'] = retornos.apply(longshort,axis=1)"
   ],
   "metadata": {
    "collapsed": false,
    "pycharm": {
     "name": "#%%\n"
    }
   }
  },
  {
   "cell_type": "code",
   "execution_count": 88,
   "outputs": [
    {
     "data": {
      "text/plain": "            retorno diario  Prediccion   W/L    S/L\nDate                                               \n2012-10-23       -0.013876    0.000867  loss   Long\n2012-10-24       -0.002829    0.000713  loss   Long\n2012-10-25        0.002907    0.001257   win   Long\n2012-10-26       -0.000566    0.001161  loss   Long\n2012-10-31        0.000000    0.000469  loss   Long\n...                    ...         ...   ...    ...\n2019-05-31       -0.013475    0.001169  loss   Long\n2019-06-03       -0.002543    0.000690  loss   Long\n2019-06-04        0.021707    0.001446   win   Long\n2019-06-05        0.008662    0.000407   win   Long\n2019-06-06        0.006503   -0.000540  loss  Short\n\n[1664 rows x 4 columns]",
      "text/html": "<div>\n<style scoped>\n    .dataframe tbody tr th:only-of-type {\n        vertical-align: middle;\n    }\n\n    .dataframe tbody tr th {\n        vertical-align: top;\n    }\n\n    .dataframe thead th {\n        text-align: right;\n    }\n</style>\n<table border=\"1\" class=\"dataframe\">\n  <thead>\n    <tr style=\"text-align: right;\">\n      <th></th>\n      <th>retorno diario</th>\n      <th>Prediccion</th>\n      <th>W/L</th>\n      <th>S/L</th>\n    </tr>\n    <tr>\n      <th>Date</th>\n      <th></th>\n      <th></th>\n      <th></th>\n      <th></th>\n    </tr>\n  </thead>\n  <tbody>\n    <tr>\n      <th>2012-10-23</th>\n      <td>-0.013876</td>\n      <td>0.000867</td>\n      <td>loss</td>\n      <td>Long</td>\n    </tr>\n    <tr>\n      <th>2012-10-24</th>\n      <td>-0.002829</td>\n      <td>0.000713</td>\n      <td>loss</td>\n      <td>Long</td>\n    </tr>\n    <tr>\n      <th>2012-10-25</th>\n      <td>0.002907</td>\n      <td>0.001257</td>\n      <td>win</td>\n      <td>Long</td>\n    </tr>\n    <tr>\n      <th>2012-10-26</th>\n      <td>-0.000566</td>\n      <td>0.001161</td>\n      <td>loss</td>\n      <td>Long</td>\n    </tr>\n    <tr>\n      <th>2012-10-31</th>\n      <td>0.000000</td>\n      <td>0.000469</td>\n      <td>loss</td>\n      <td>Long</td>\n    </tr>\n    <tr>\n      <th>...</th>\n      <td>...</td>\n      <td>...</td>\n      <td>...</td>\n      <td>...</td>\n    </tr>\n    <tr>\n      <th>2019-05-31</th>\n      <td>-0.013475</td>\n      <td>0.001169</td>\n      <td>loss</td>\n      <td>Long</td>\n    </tr>\n    <tr>\n      <th>2019-06-03</th>\n      <td>-0.002543</td>\n      <td>0.000690</td>\n      <td>loss</td>\n      <td>Long</td>\n    </tr>\n    <tr>\n      <th>2019-06-04</th>\n      <td>0.021707</td>\n      <td>0.001446</td>\n      <td>win</td>\n      <td>Long</td>\n    </tr>\n    <tr>\n      <th>2019-06-05</th>\n      <td>0.008662</td>\n      <td>0.000407</td>\n      <td>win</td>\n      <td>Long</td>\n    </tr>\n    <tr>\n      <th>2019-06-06</th>\n      <td>0.006503</td>\n      <td>-0.000540</td>\n      <td>loss</td>\n      <td>Short</td>\n    </tr>\n  </tbody>\n</table>\n<p>1664 rows × 4 columns</p>\n</div>"
     },
     "execution_count": 88,
     "metadata": {},
     "output_type": "execute_result"
    }
   ],
   "source": [
    "retornos"
   ],
   "metadata": {
    "collapsed": false,
    "pycharm": {
     "name": "#%%\n"
    }
   }
  }
 ],
 "metadata": {
  "kernelspec": {
   "display_name": "Python 3",
   "language": "python",
   "name": "python3"
  },
  "language_info": {
   "codemirror_mode": {
    "name": "ipython",
    "version": 2
   },
   "file_extension": ".py",
   "mimetype": "text/x-python",
   "name": "python",
   "nbconvert_exporter": "python",
   "pygments_lexer": "ipython2",
   "version": "2.7.6"
  }
 },
 "nbformat": 4,
 "nbformat_minor": 0
}